{
 "cells": [
  {
   "cell_type": "code",
   "execution_count": 1,
   "id": "75ed2a81",
   "metadata": {},
   "outputs": [
    {
     "data": {
      "text/plain": [
       "True"
      ]
     },
     "execution_count": 1,
     "metadata": {},
     "output_type": "execute_result"
    }
   ],
   "source": [
    "import os\n",
    "from langchain_groq import ChatGroq\n",
    "from dotenv import load_dotenv, find_dotenv\n",
    "\n",
    "load_dotenv(find_dotenv())  \n"
   ]
  },
  {
   "cell_type": "code",
   "execution_count": null,
   "id": "e5bb3a6b",
   "metadata": {},
   "outputs": [],
   "source": [
    "def get_chat_completion(prompt, model) ->str: \n",
    "    response = llm.invoke(prompt) \n",
    "    return response.content \n",
    "\n",
    "llm = ChatGroq(\n",
    "    groq_api_key=os.getenv(\"GROQ_API_KEY\"),\n",
    "    model=\"llama-3.3-70b-versatile\",\n",
    "    temperature=0\n",
    ")\n",
    "query=\"\""
   ]
  },
  {
   "cell_type": "code",
   "execution_count": null,
   "id": "4f4c7209",
   "metadata": {},
   "outputs": [],
   "source": [
    "FirstPrompt = f\"\"\"\n",
    "\n",
    "\"\"\"\n"
   ]
  },
  {
   "cell_type": "code",
   "execution_count": null,
   "id": "3059dd05",
   "metadata": {},
   "outputs": [],
   "source": []
  },
  {
   "cell_type": "code",
   "execution_count": null,
   "id": "4bd05581",
   "metadata": {},
   "outputs": [],
   "source": [
    "SecondPrompt = f\"\"\"      \n",
    "You are an expert SQLite developer and data analyst specializing in querying complex, event-driven systems. Your task is to convert a natural language data request into a single, syntactically correct SQLite query based on a provided database schema and detailed event definitions.\n",
    "\n",
    "**1. Database Schema**\n",
    "\n",
    "You MUST adhere strictly to the following SQLite schema. Do not invent table or column names.\n",
    "\n",
    "```sql\n",
    "{schema}\n",
    "\n",
    "    \n",
    "\n",
    "2. Event Logic Context\n",
    "\n",
    "This context explains the meaning behind the tables and the business logic of the events. Use this to understand the relationships between tables and the purpose of the data. For example, to find information about \"unsafe velocity,\" you must use the PLUNGER_UNSAFE_VELOCITY_EVENTS table and join it with related tables.\n",
    "code Code\n",
    "IGNORE_WHEN_COPYING_START\n",
    "IGNORE_WHEN_COPYING_END\n",
    "\n",
    "      \n",
    "{event_details}\n",
    "\n",
    "    \n",
    "\n",
    "3. User's Data Request\n",
    "\n",
    "The user needs data for the following scenario. Your query must retrieve exactly what is being asked.\n",
    "\n",
    "    Description: \"{description}\"\n",
    "\n",
    "4. Your Task & Constraints\n",
    "\n",
    "    Analyze the User's Data Request.\n",
    "\n",
    "    Use the Database Schema and Event Logic Context to identify all the necessary tables and columns.\n",
    "\n",
    "    Construct the correct JOIN clauses to link the tables based on their foreign key relationships.\n",
    "\n",
    "    Translate any time-based constraints (e.g., \"last 7 days,\" \"yesterday\") into appropriate SQLite WHERE clauses. Use standard SQLite date functions like datetime('now', '-7 days').\n",
    "\n",
    "    You must output ONLY the raw SQLite query.\n",
    "\n",
    "    Do not include any explanations, comments, or markdown formatting like sql ... . Your entire output should be the executable query itself.\"\"\""
   ]
  },
  {
   "cell_type": "code",
   "execution_count": null,
   "id": "2a496758",
   "metadata": {},
   "outputs": [],
   "source": [
    "from langchain.prompts import ChatPromptTemplate\n",
    "prompt_template = ChatPromptTemplate.from_template(FirstPrompt) "
   ]
  },
  {
   "cell_type": "code",
   "execution_count": 5,
   "id": "ad3dfbe0",
   "metadata": {},
   "outputs": [
    {
     "data": {
      "text/plain": [
       "\"import pandas as pd\\nimport glob\\n\\n# Load Arrival Speed data\\narrival_speed_file = glob.glob('./La Vista 1H/Arrival Speed*.csv')[0]\\narrival_speed_df = pd.read_csv(arrival_speed_file)\\n\\n# Ensure timestamp is in datetime format\\narrival_speed_df['timestamp'] = pd.to_datetime(arrival_speed_df['timestamp'])\\n\\n# Sort by timestamp in descending order and get the latest 5 readings\\nlatest_5_readings = arrival_speed_df.sort_values(by='timestamp', ascending=False).head(5)\\n\\nprint(latest_5_readings)\""
      ]
     },
     "execution_count": 5,
     "metadata": {},
     "output_type": "execute_result"
    }
   ],
   "source": [
    "def extract_code_from_markdown(llm_output: str) -> str:\n",
    "    if llm_output.startswith(\"```\"):\n",
    "        return \"\\n\".join(\n",
    "            line for line in llm_output.splitlines()\n",
    "            if not line.strip().startswith(\"```\")\n",
    "        )\n",
    "    return llm_output\n",
    "\n",
    "user_query = \"give me the latest 5 reading of arival speed\"\n",
    "message = prompt_template.format_messages(query=user_query)\n",
    "resp = get_chat_completion(message, llm)\n",
    "extracted_code = extract_code_from_markdown(resp)\n",
    "extracted_code"
   ]
  },
  {
   "cell_type": "code",
   "execution_count": null,
   "id": "54c6bd88",
   "metadata": {},
   "outputs": [],
   "source": []
  }
 ],
 "metadata": {
  "kernelspec": {
   "display_name": ".venv",
   "language": "python",
   "name": "python3"
  },
  "language_info": {
   "codemirror_mode": {
    "name": "ipython",
    "version": 3
   },
   "file_extension": ".py",
   "mimetype": "text/x-python",
   "name": "python",
   "nbconvert_exporter": "python",
   "pygments_lexer": "ipython3",
   "version": "3.13.5"
  }
 },
 "nbformat": 4,
 "nbformat_minor": 5
}
