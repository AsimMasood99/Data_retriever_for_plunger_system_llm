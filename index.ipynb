{
 "cells": [
  {
   "cell_type": "code",
   "execution_count": 10,
   "id": "75ed2a81",
   "metadata": {},
   "outputs": [
    {
     "data": {
      "text/plain": [
       "True"
      ]
     },
     "execution_count": 10,
     "metadata": {},
     "output_type": "execute_result"
    }
   ],
   "source": [
    "import os\n",
    "from langchain_groq import ChatGroq\n",
    "from dotenv import load_dotenv, find_dotenv\n",
    "\n",
    "load_dotenv(find_dotenv())  \n"
   ]
  },
  {
   "cell_type": "code",
   "execution_count": 11,
   "id": "e5bb3a6b",
   "metadata": {},
   "outputs": [],
   "source": [
    "def get_chat_completion(prompt, model) ->str: \n",
    "    response = llm.invoke(prompt) \n",
    "    return response.content \n",
    "\n",
    "llm = ChatGroq(\n",
    "    groq_api_key=os.getenv(\"GROQ_API_KEY\"),\n",
    "    model=\"llama-3.3-70b-versatile\",\n",
    "    temperature=0\n",
    ")\n"
   ]
  },
  {
   "cell_type": "code",
   "execution_count": 21,
   "id": "4f4c7209",
   "metadata": {},
   "outputs": [],
   "source": [
    "template_string = \"\"\"\n",
    "You are an expert data analyst.\n",
    "The user has a question about a plunger lift system, which has time series data for the following features:\n",
    "1. Arrival Speed\n",
    "2. Arrival Time Remaining\n",
    "3. Casing Pressure\n",
    "4. Current Non-Arrival Time\n",
    "5. Down Hole Pressure\n",
    "6. Line Pressure\n",
    "7. Sales Meter Flow Rate\n",
    "8. Sales Meter Static Pressure\n",
    "9. Tubing Pressure\n",
    "\n",
    "Each feature is stored in a separate CSV file (in directory ./La Vista 1H) with two columns: a 'timestamp' column and a column with the feature name.\n",
    "\n",
    "Given the user's question, do the following:\n",
    "1. Identify the relevant feature(s) from the list above. If none are found, respond with: **\"Feature is not available.\"**\n",
    "2. Identify any time constraints mentioned (e.g., specific date/time or time range).\n",
    "3. Output a **Python Pandas code** that filters the CSV file(s) to get the requested information.\n",
    "\n",
    "Output only the code, without any additional text or explanations.\n",
    "\n",
    "User query: {query}\n",
    "\"\"\"\n"
   ]
  },
  {
   "cell_type": "code",
   "execution_count": 22,
   "id": "2a496758",
   "metadata": {},
   "outputs": [],
   "source": [
    "from langchain.prompts import ChatPromptTemplate\n",
    "prompt_template = ChatPromptTemplate.from_template(template_string) "
   ]
  },
  {
   "cell_type": "code",
   "execution_count": 28,
   "id": "ad3dfbe0",
   "metadata": {},
   "outputs": [
    {
     "data": {
      "text/plain": [
       "\"import pandas as pd\\nimport os\\n\\n# Load Arrival Speed data\\narrival_speed_df = pd.read_csv('./La Vista 1H/Arrival Speed.csv')\\n\\n# Sort by timestamp in descending order and get the latest 5 readings\\nlatest_arrival_speed = arrival_speed_df.sort_values(by='timestamp', ascending=False).head(5)\\n\\nprint(latest_arrival_speed)\""
      ]
     },
     "execution_count": 28,
     "metadata": {},
     "output_type": "execute_result"
    }
   ],
   "source": [
    "def extract_code_from_markdown(llm_output: str) -> str:\n",
    "    if llm_output.startswith(\"```\"):\n",
    "        return \"\\n\".join(\n",
    "            line for line in llm_output.splitlines()\n",
    "            if not line.strip().startswith(\"```\")\n",
    "        )\n",
    "    return llm_output\n",
    "\n",
    "user_query = \"give me the latest 5 reading of arival speed\"\n",
    "message = prompt_template.format_messages(query=user_query)\n",
    "resp = get_chat_completion(message, llm)\n",
    "extracted_code = extract_code_from_markdown(resp)\n",
    "extracted_code"
   ]
  },
  {
   "cell_type": "code",
   "execution_count": 29,
   "id": "c076d630",
   "metadata": {},
   "outputs": [
    {
     "name": "stdout",
     "output_type": "stream",
     "text": [
      "                 timestamp    value\n",
      "7200  2025-07-09T08:08:23Z  1057.80\n",
      "7199  2025-07-09T08:06:23Z  1057.80\n",
      "7198  2025-07-09T08:04:23Z  1057.80\n",
      "7197  2025-07-09T08:02:23Z  1057.80\n",
      "7196  2025-07-09T08:00:23Z  1122.95\n"
     ]
    }
   ],
   "source": [
    "exec(extracted_code)"
   ]
  }
 ],
 "metadata": {
  "kernelspec": {
   "display_name": ".venv",
   "language": "python",
   "name": "python3"
  },
  "language_info": {
   "codemirror_mode": {
    "name": "ipython",
    "version": 3
   },
   "file_extension": ".py",
   "mimetype": "text/x-python",
   "name": "python",
   "nbconvert_exporter": "python",
   "pygments_lexer": "ipython3",
   "version": "3.13.5"
  }
 },
 "nbformat": 4,
 "nbformat_minor": 5
}
